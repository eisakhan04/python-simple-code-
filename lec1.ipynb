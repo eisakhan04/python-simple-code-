{
  "cells": [
    {
      "cell_type": "markdown",
      "metadata": {
        "id": "view-in-github",
        "colab_type": "text"
      },
      "source": [
        "<a href=\"https://colab.research.google.com/github/onlyone11s/python-simple-code-/blob/main/lec1.ipynb\" target=\"_parent\"><img src=\"https://colab.research.google.com/assets/colab-badge.svg\" alt=\"Open In Colab\"/></a>"
      ]
    },
    {
      "cell_type": "code",
      "source": [
        "a=5\n",
        "print(a)"
      ],
      "metadata": {
        "colab": {
          "base_uri": "https://localhost:8080/"
        },
        "id": "TBqUbXuOhGVm",
        "outputId": "3b4e1c79-024e-4eac-80b0-e6978c11929f"
      },
      "execution_count": 3,
      "outputs": [
        {
          "output_type": "stream",
          "name": "stdout",
          "text": [
            "5\n"
          ]
        }
      ]
    },
    {
      "cell_type": "markdown",
      "source": [
        "**Operater used in Python**\n",
        "Simple code"
      ],
      "metadata": {
        "id": "Q8noO4S8i0f_"
      }
    },
    {
      "cell_type": "code",
      "source": [
        "a=5\n",
        "b=6\n",
        "c=7\n",
        "zia =a\n",
        "abbas=b\n",
        "ali=c\n",
        "x=zia+abbas+ali\n",
        "print(x)"
      ],
      "metadata": {
        "colab": {
          "base_uri": "https://localhost:8080/"
        },
        "id": "5h023eMMiTyM",
        "outputId": "44e5ea0f-6dec-4c47-da07-a32f296058b9"
      },
      "execution_count": 5,
      "outputs": [
        {
          "output_type": "stream",
          "name": "stdout",
          "text": [
            "18\n"
          ]
        }
      ]
    },
    {
      "cell_type": "code",
      "source": [
        "y=x\n",
        "print(y)"
      ],
      "metadata": {
        "colab": {
          "base_uri": "https://localhost:8080/"
        },
        "id": "z8kQ0BmchqIi",
        "outputId": "5b77707d-b24a-483b-b0c4-ab48de364da8"
      },
      "execution_count": 6,
      "outputs": [
        {
          "output_type": "stream",
          "name": "stdout",
          "text": [
            "18\n"
          ]
        }
      ]
    },
    {
      "cell_type": "code",
      "source": [
        "avg=(a+b+c)/3\n",
        "print(avg)"
      ],
      "metadata": {
        "colab": {
          "base_uri": "https://localhost:8080/"
        },
        "id": "7hk6mZBPhxuQ",
        "outputId": "20392547-d396-4c5d-84e2-60f4f5b92e80"
      },
      "execution_count": 7,
      "outputs": [
        {
          "output_type": "stream",
          "name": "stdout",
          "text": [
            "6.0\n"
          ]
        }
      ]
    },
    {
      "cell_type": "markdown",
      "source": [
        "reserved key error we cannot declear any variable\n",
        "#global =1\n",
        "#sepicial character we cannot declear any variable like (! , @ ,# , $ , % , etc\n",
        "#a@ = 2\n",
        "##Python KeyWrod\n",
        "**(Total number of KeyWord\n",
        "['and'\n",
        " 'as'\n",
        " 'assert'\n",
        " 'break'\n",
        " 'class'\n",
        " 'continue'\n",
        " 'def'\n",
        " 'elif'\n",
        " 'del'\n",
        " 'else'\n",
        " 'except'\n",
        " 'exec'\n",
        " 'finally'\n",
        " 'for'\n",
        " 'from'\n",
        " 'global'\n",
        " 'if'\n",
        " 'import'\n",
        " 'in'\n",
        " 'is'\n",
        " 'lambda'\n",
        " 'not'\n",
        " 'or'\n",
        " 'pass'\n",
        " 'print'\n",
        " 'raise'\n",
        " 'return'\n",
        " 'try'\n",
        " 'while'\n",
        " 'with'\n",
        " 'yield'])**\n",
        "\n",
        " #Identifiers\n",
        " identifiers is the name given to entities like class , function variable etc . in Python .it helps differentiating one entity from another\n",
        " Rules for Writing identifier :\n",
        "    # 1:Identifiers can be a combination of  letters in lowercase (a to z)or upercase (A toZ)or digits (0 to 9) or an underscore(_).\n",
        "    # 2: An Identifier cannot start with a digit . 1variable is invalid, but variable1 is perfectily fine\n",
        "   # 3: Keyword cannot be used as identifiers.\n"
      ],
      "metadata": {
        "id": "VPIdBlE3kS1b"
      }
    },
    {
      "cell_type": "markdown",
      "source": [
        "#**python used in input function for code is following **"
      ],
      "metadata": {
        "id": "s-rpv1rqlGI2"
      }
    },
    {
      "cell_type": "code",
      "source": [
        "#input first value in a\n",
        "a= int(input(\"enter the value 1:\"))\n",
        "#input first value in b\n",
        "b=int (input(\"enter the value 2:\"))\n",
        "#calculate result on\n",
        "fr= a**2 + b**2 + 2*a*b\n",
        "#display the result\n",
        "print(fr)"
      ],
      "metadata": {
        "colab": {
          "base_uri": "https://localhost:8080/"
        },
        "id": "gKv6ai2hkSmP",
        "outputId": "305a5c04-2c70-4e9e-bc3e-3e6e9bd80135"
      },
      "execution_count": 8,
      "outputs": [
        {
          "output_type": "stream",
          "name": "stdout",
          "text": [
            "enter the value 1:5\n",
            "enter the value 2:5\n",
            "100\n"
          ]
        }
      ]
    },
    {
      "cell_type": "markdown",
      "source": [
        "**program calculate the area**"
      ],
      "metadata": {
        "id": "drjlTzaSm0Ge"
      }
    },
    {
      "cell_type": "code",
      "source": [
        "\n",
        "r= float(input(\"enter the radius of the circle:\"))\n",
        "#calculate the area\n",
        "area = 3.14* r**2\n",
        "#display the area of circle\n",
        "print(\"the area of circle is= \",area)\n"
      ],
      "metadata": {
        "colab": {
          "base_uri": "https://localhost:8080/"
        },
        "id": "lQMVnY0WmJYJ",
        "outputId": "e325cb26-5e87-43e6-a459-cffb4ac6462a"
      },
      "execution_count": 9,
      "outputs": [
        {
          "output_type": "stream",
          "name": "stdout",
          "text": [
            "enter the radius of the circle:5\n",
            "the area of circle is=  78.5\n"
          ]
        }
      ]
    },
    {
      "cell_type": "markdown",
      "source": [
        "#average of three number"
      ],
      "metadata": {
        "id": "P5gu8cTRnLFc"
      }
    },
    {
      "cell_type": "code",
      "source": [
        "#the avg of three number\n",
        "a=int(input(\"Enter value 1:\"))\n",
        "b=int(input(\"Enter value 2:\"))\n",
        "c=int(input(\"Enter value 3:\"))\n",
        "avg = (a+b+c)/3\n",
        "print(avg)"
      ],
      "metadata": {
        "colab": {
          "base_uri": "https://localhost:8080/"
        },
        "id": "3_97yc9cmaOR",
        "outputId": "6dd99d00-ca6b-4d6e-bb3e-bb9341785262"
      },
      "execution_count": 10,
      "outputs": [
        {
          "output_type": "stream",
          "name": "stdout",
          "text": [
            "Enter value 1:2\n",
            "Enter value 2:2\n",
            "Enter value 3:2\n",
            "2.0\n"
          ]
        }
      ]
    },
    {
      "cell_type": "code",
      "source": [
        "a= int(input(\"enter the value :\"))\n",
        "r =a*2\n",
        "print(r)"
      ],
      "metadata": {
        "colab": {
          "base_uri": "https://localhost:8080/"
        },
        "id": "l86AyUdFmcDN",
        "outputId": "7ef46776-6a5d-4bfb-aaeb-4a980db22c54"
      },
      "execution_count": 12,
      "outputs": [
        {
          "output_type": "stream",
          "name": "stdout",
          "text": [
            "enter the value :7\n",
            "14\n"
          ]
        }
      ]
    },
    {
      "cell_type": "code",
      "source": [
        "bookq=int(input(\"enter book Quantity : \"))\n",
        "price = bookq*10\n",
        "print(price)"
      ],
      "metadata": {
        "colab": {
          "base_uri": "https://localhost:8080/"
        },
        "id": "mw46vYE5mesz",
        "outputId": "1645d54b-0102-41ff-cff0-477767ac3e7e"
      },
      "execution_count": 13,
      "outputs": [
        {
          "output_type": "stream",
          "name": "stdout",
          "text": [
            "enter book Quantity : 7\n",
            "70\n"
          ]
        }
      ]
    },
    {
      "cell_type": "markdown",
      "source": [
        "#percentage of the number\n"
      ],
      "metadata": {
        "id": "EF1BQypCnuQK"
      }
    },
    {
      "cell_type": "code",
      "source": [
        "# paper 3 subject each 100 tatal marks 300\n",
        "p1= int(input(\"enter marks p1 :\"))\n",
        "p2= int(input(\"enter marks p2 :\"))\n",
        "p3= int(input(\"enter marks p3 :\"))\n",
        "pc=(p1+p2+p3)/300 *100\n",
        "print(pc)"
      ],
      "metadata": {
        "colab": {
          "base_uri": "https://localhost:8080/"
        },
        "id": "jupsuFsfmiit",
        "outputId": "b031c7f4-7585-461e-a8df-3775657f7c4b"
      },
      "execution_count": 14,
      "outputs": [
        {
          "output_type": "stream",
          "name": "stdout",
          "text": [
            "enter marks p1 :60\n",
            "enter marks p2 :60\n",
            "enter marks p3 :60\n",
            "60.0\n"
          ]
        }
      ]
    }
  ],
  "metadata": {
    "colab": {
      "provenance": [],
      "toc_visible": true,
      "authorship_tag": "ABX9TyMVI95JYwLMq0LJjfv0ShPn",
      "include_colab_link": true
    },
    "kernelspec": {
      "display_name": "Python 3",
      "name": "python3"
    },
    "language_info": {
      "name": "python"
    }
  },
  "nbformat": 4,
  "nbformat_minor": 0
}
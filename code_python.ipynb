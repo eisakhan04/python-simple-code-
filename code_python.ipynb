{
  "nbformat": 4,
  "nbformat_minor": 0,
  "metadata": {
    "colab": {
      "provenance": [],
      "authorship_tag": "ABX9TyOPbx9FcJBO+OYCgkeG4MUf",
      "include_colab_link": true
    },
    "kernelspec": {
      "name": "python3",
      "display_name": "Python 3"
    },
    "language_info": {
      "name": "python"
    }
  },
  "cells": [
    {
      "cell_type": "markdown",
      "metadata": {
        "id": "view-in-github",
        "colab_type": "text"
      },
      "source": [
        "<a href=\"https://colab.research.google.com/github/onlyone11s/python-simple-code-/blob/main/code_python.ipynb\" target=\"_parent\"><img src=\"https://colab.research.google.com/assets/colab-badge.svg\" alt=\"Open In Colab\"/></a>"
      ]
    },
    {
      "cell_type": "markdown",
      "source": [
        "#string combination code"
      ],
      "metadata": {
        "id": "qpmJZsc-xLEj"
      }
    },
    {
      "cell_type": "code",
      "execution_count": 1,
      "metadata": {
        "colab": {
          "base_uri": "https://localhost:8080/"
        },
        "id": "7qD9wVZxtbsZ",
        "outputId": "2794439b-12c4-4732-8ca3-6f1117f81af9"
      },
      "outputs": [
        {
          "output_type": "stream",
          "name": "stdout",
          "text": [
            " Enter the string 1 :eisa\n",
            " Enter the string 2 :kham\n",
            "the string are not equal ...\n"
          ]
        }
      ],
      "source": [
        "\n",
        "str1 = \"Hello\"\n",
        "str2 = \"Eisa\"\n",
        "str1 =input(\" Enter the string 1 :\")\n",
        "str2 =input(\" Enter the string 2 :\")\n",
        "if str1 == str2:\n",
        "    print(\"the string are equal...\")\n",
        "else:\n",
        "   print(\"the string are not equal ...\")"
      ]
    },
    {
      "cell_type": "markdown",
      "source": [
        "#leap year code"
      ],
      "metadata": {
        "id": "QRLl79IFxWDO"
      }
    },
    {
      "cell_type": "code",
      "source": [
        "year = int(input(\"enter a year \"))\n",
        "if year % 4==0:\n",
        "    print(\"It is a leap year \")"
      ],
      "metadata": {
        "colab": {
          "base_uri": "https://localhost:8080/"
        },
        "id": "td9gru7yuV3I",
        "outputId": "7894519d-c26a-4795-f603-9c7a481ff8f4"
      },
      "execution_count": 3,
      "outputs": [
        {
          "output_type": "stream",
          "name": "stdout",
          "text": [
            "enter a year 2020\n",
            "It is a leap year \n"
          ]
        }
      ]
    },
    {
      "cell_type": "markdown",
      "source": [],
      "metadata": {
        "id": "ftTBhgGpxgFz"
      }
    },
    {
      "cell_type": "code",
      "source": [
        "string = input(\"enter a string :\")\n",
        "if string[0].lower()==string:\n",
        " print(\"the string start with letter :\" ,string)"
      ],
      "metadata": {
        "colab": {
          "base_uri": "https://localhost:8080/"
        },
        "id": "0iXRe8XIu4rl",
        "outputId": "7532eb37-5705-48fb-a395-fe14745fb36b"
      },
      "execution_count": 4,
      "outputs": [
        {
          "name": "stdout",
          "output_type": "stream",
          "text": [
            "enter a string :cjkc\n"
          ]
        }
      ]
    },
    {
      "cell_type": "markdown",
      "source": [],
      "metadata": {
        "id": "V1NpeEL-xh-1"
      }
    },
    {
      "cell_type": "code",
      "source": [
        "num = int(input(\"enter a number \"))\n",
        "if 10 <= num <= 20 :\n",
        "   print(\"the number is 10 and 20 (inclusive)\")"
      ],
      "metadata": {
        "colab": {
          "base_uri": "https://localhost:8080/"
        },
        "id": "sOtVPVo6vNk5",
        "outputId": "626f7bef-8e74-4e9d-ff27-77df1bd07614"
      },
      "execution_count": 6,
      "outputs": [
        {
          "output_type": "stream",
          "name": "stdout",
          "text": [
            "enter a number 13\n",
            "the number is 10 and 20 (inclusive)\n"
          ]
        }
      ]
    },
    {
      "cell_type": "markdown",
      "source": [
        "#check number is perfect square code"
      ],
      "metadata": {
        "id": "nPJLpYjLxj6y"
      }
    },
    {
      "cell_type": "code",
      "source": [
        "num = int(input(\"Enter a number : \"))\n",
        "if num ** 0.5 % 1 ==0:\n",
        "  print(\"The number is perfect square\")\n",
        "else:\n",
        "  print(\"the number is not perfect square\")"
      ],
      "metadata": {
        "colab": {
          "base_uri": "https://localhost:8080/"
        },
        "id": "Kozf_XbHvZmV",
        "outputId": "1a251fdc-27d0-4c0a-c3f4-aee2c1d84bee"
      },
      "execution_count": 7,
      "outputs": [
        {
          "output_type": "stream",
          "name": "stdout",
          "text": [
            "Enter a number : 6\n",
            "the number is not perfect square\n"
          ]
        }
      ]
    }
  ]
}
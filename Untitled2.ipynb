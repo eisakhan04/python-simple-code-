{
  "nbformat": 4,
  "nbformat_minor": 0,
  "metadata": {
    "colab": {
      "provenance": [],
      "authorship_tag": "ABX9TyMwh297iKZlZhvKJzadxNhQ",
      "include_colab_link": true
    },
    "kernelspec": {
      "name": "python3",
      "display_name": "Python 3"
    },
    "language_info": {
      "name": "python"
    }
  },
  "cells": [
    {
      "cell_type": "markdown",
      "metadata": {
        "id": "view-in-github",
        "colab_type": "text"
      },
      "source": [
        "<a href=\"https://colab.research.google.com/github/onlyone11s/python-simple-code-/blob/main/Untitled2.ipynb\" target=\"_parent\"><img src=\"https://colab.research.google.com/assets/colab-badge.svg\" alt=\"Open In Colab\"/></a>"
      ]
    },
    {
      "cell_type": "markdown",
      "source": [
        "#Simple code for python"
      ],
      "metadata": {
        "id": "pFwIhnAs4roz"
      }
    },
    {
      "cell_type": "code",
      "execution_count": 14,
      "metadata": {
        "colab": {
          "base_uri": "https://localhost:8080/"
        },
        "id": "tKObB4FBywfZ",
        "outputId": "46220e4e-08f1-468f-ca0b-3138eda00ca4"
      },
      "outputs": [
        {
          "output_type": "stream",
          "name": "stdout",
          "text": [
            "The sum of the two numbers :  178\n",
            "The result of subtraction :  46\n",
            "The product of the numbers:  624\n",
            "The result of division :  45.0\n",
            "The result of integer division :  16\n",
            "The result of exponentiation :  8\n",
            "The remainder of the division :  1\n",
            "the equation :  151\n"
          ]
        }
      ],
      "source": [
        "# Addition\n",
        "print(\"The sum of the two numbers : \", 90 + 88)\n",
        " # Subtraction\n",
        "print(\"The result of subtraction : \", 89 - 43)\n",
        "# Multiplication\n",
        "print(\"The Multiplication of the numbers: \", 8 * 78)\n",
        "# Division\n",
        "print(\"The result of division : \", 90 / 2)\n",
        " # Double Division\n",
        "print(\"The result of integer division : \", 64 // 4)\n",
        "# Power\n",
        "print(\"The result of exponentiation : \", 2 ** 3)\n",
        "# Reminder\n",
        "print(\"The remainder of the division : \", 9 % 2)\n",
        "#Equation\n",
        "print(\"the equation : \", (68 // 4 * 9 + 8 -10))"
      ]
    },
    {
      "cell_type": "code",
      "source": [
        "#string variable\n",
        "y=\"I'm Pakistani!\"\n",
        "print(y)\n",
        "\n",
        "x=40\n",
        "print(x)\n",
        "x=x+10\n",
        "print(x)\n",
        "z='?'\n",
        "print(z)"
      ],
      "metadata": {
        "id": "qPyjGGwf1Jo6"
      },
      "execution_count": null,
      "outputs": []
    },
    {
      "cell_type": "code",
      "source": [
        "print(\" 4 equal to 4? \", 4 == 4)\n",
        "print(\" 4 not equal to 9? \", 4 != 9)\n",
        "print(\" 4 greater than 3? \", 4 > 3)\n",
        "print(\" 3 less than 6? \", 3 < 6)\n",
        "print(\" 3 less than or equal to 5? \", 3 <= 5)"
      ],
      "metadata": {
        "colab": {
          "base_uri": "https://localhost:8080/"
        },
        "id": "yxr4CO6Y1Zjc",
        "outputId": "3f734f4f-0be6-4ded-8dfa-147ae990650d"
      },
      "execution_count": 15,
      "outputs": [
        {
          "output_type": "stream",
          "name": "stdout",
          "text": [
            " 4 equal to 4?  True\n",
            " 4 not equal to 9?  True\n",
            " 4 greater than 3?  True\n",
            " 3 less than 6?  True\n",
            " 3 less than or equal to 5?  True\n"
          ]
        }
      ]
    },
    {
      "cell_type": "code",
      "source": [
        "ages =5\n",
        "#INPUT FUNCTION\n",
        "age=input(\"How old is student? \")\n",
        "#CONVERTING string INTO int DATA TYPE\n",
        "age=int(age)\n",
        "print (type(age))\n",
        "print(age>=ages)"
      ],
      "metadata": {
        "colab": {
          "base_uri": "https://localhost:8080/"
        },
        "id": "07cOlfKZ1gLB",
        "outputId": "443862cf-0500-4b92-832c-5225c51672ef"
      },
      "execution_count": 5,
      "outputs": [
        {
          "output_type": "stream",
          "name": "stdout",
          "text": [
            "How old is student? 30\n",
            "<class 'int'>\n",
            "True\n"
          ]
        }
      ]
    },
    {
      "cell_type": "code",
      "source": [
        "student_age=input(\"How old is student? \")\n",
        "student_age=int(student_age)\n",
        "required_age=5\n",
        "if student_age==required_age:\n",
        " print(\"Congrats sudent can join tha school.\")\n",
        "elif student_age > required_age:\n",
        " print(\"student should join Higher secondary school.\")\n",
        "elif student_age <= 2:\n",
        " print(\"you shoul take care of student he/she is a still baby\")\n",
        "else:\n",
        " print(\"student can't join the school.\")"
      ],
      "metadata": {
        "colab": {
          "base_uri": "https://localhost:8080/"
        },
        "id": "olCw3xPC1ohm",
        "outputId": "0b52ae8c-6755-4709-c051-ac969881f987"
      },
      "execution_count": 10,
      "outputs": [
        {
          "output_type": "stream",
          "name": "stdout",
          "text": [
            "How old is student? 33\n",
            "student should join Higher secondary school.\n"
          ]
        }
      ]
    }
  ]
}